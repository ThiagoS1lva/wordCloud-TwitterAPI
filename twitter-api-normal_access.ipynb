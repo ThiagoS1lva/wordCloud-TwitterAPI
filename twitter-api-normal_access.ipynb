{
 "cells": [
  {
   "cell_type": "markdown",
   "metadata": {},
   "source": [
    "# Twitter API"
   ]
  },
  {
   "cell_type": "markdown",
   "metadata": {},
   "source": [
    "Twitter API v2"
   ]
  },
  {
   "cell_type": "code",
   "execution_count": null,
   "metadata": {
    "tags": []
   },
   "outputs": [],
   "source": [
    "# Instalação das bibliotecas\n",
    "#%pip install pandas --quiet\n",
    "#%pip install tweepy --quiet\n",
    "#%pip install wordcloud --quiet\n",
    "#%pip install scipy --quiet"
   ]
  },
  {
   "cell_type": "code",
   "execution_count": null,
   "metadata": {},
   "outputs": [],
   "source": [
    "# Importando as bibliotecas\n",
    "import pandas as pd\n",
    "import tweepy\n",
    "import matplotlib.pyplot as plt\n",
    "import tweepy as tw\n",
    "import numpy as np\n",
    "import pandas as pd\n",
    "import matplotlib.pyplot as plt\n",
    "from PIL import Image\n",
    "from wordcloud import WordCloud, STOPWORDS, ImageColorGenerator\n",
    "import os\n",
    "from os import path\n",
    "import random\n",
    "from scipy.ndimage import gaussian_gradient_magnitude"
   ]
  },
  {
   "cell_type": "code",
   "execution_count": null,
   "metadata": {},
   "outputs": [],
   "source": [
    "# Autenticação\n",
    "bearer_token = 'Suas chaves'\n",
    "client = tweepy.Client(bearer_token)"
   ]
  },
  {
   "cell_type": "code",
   "execution_count": null,
   "metadata": {},
   "outputs": [],
   "source": [
    "# Recuperando Tweets\n",
    "response = client.search_recent_tweets(\"Python\", max_results=100)"
   ]
  },
  {
   "cell_type": "code",
   "execution_count": null,
   "metadata": {},
   "outputs": [],
   "source": [
    "# Imprimindo Tweets\n",
    "tweets = response.data\n",
    "\n",
    "for tweet in tweets:\n",
    "    #print(tweet.id)\n",
    "    print(tweet.text)"
   ]
  },
  {
   "cell_type": "code",
   "execution_count": null,
   "metadata": {},
   "outputs": [],
   "source": [
    "# Agrupando os tweets em um dataframe\n",
    "tweets_list = [[tweet.text] for tweet in tweets]\n",
    "df = pd.DataFrame(tweets_list,columns=['Texto'])\n",
    "pd.options.display.max_colwidth = 130 \n",
    "df.head()"
   ]
  },
  {
   "cell_type": "code",
   "execution_count": null,
   "metadata": {},
   "outputs": [],
   "source": [
    "# Agrupando os tweets em uma string única\n",
    "string = pd.Series(df['Texto'].values).str.cat(sep=' ')\n",
    "string"
   ]
  },
  {
   "cell_type": "code",
   "execution_count": null,
   "metadata": {},
   "outputs": [],
   "source": [
    "# Removendo caracteres especiais\n",
    "caracteres = \"#@\"\n",
    "\n",
    "for i in range(len(caracteres)):\n",
    "    string = string.replace(caracteres[i],\"\")\n",
    "string"
   ]
  },
  {
   "cell_type": "code",
   "execution_count": null,
   "metadata": {},
   "outputs": [],
   "source": [
    "# Ignorando classes de palavras\n",
    "from wordcloud import WordCloud, STOPWORDS\n",
    "stopwords = set(STOPWORDS)\n",
    "stopwords.update([\"é\",\"e\", \"RT\", \"da\", \"fez\", \"deu\", \"mai\", \"ser\", \"tanto\", \"Deu\", \"até\", \"aos\", \"fazer\", \"isso\", \"muito\", \"tinha\", \"usaria\", \"contra\", \"pera\", \"meu\", \"em\", \"você\", \"de\", \"ao\", \"os\", \"não\", \"feira\", \"na\", \"que\", \"eu\", \"https\", \"co\", \"camisa\", \"pro\", \"hora\",\"sport\", \"ceara\", \"ceará\", \"tem\", \"se\", \"um\", \"uma\", \"que\", \"foi\", \"está\", \"aqui,\", \"para\", \"vai\", \"ter\", \"mas\", \"já\", \"nos\", \"vem\", \"sobre\", \"sendo\", \"dia\", \"ver\",\"por\", \"nossa\", \"quem\", \"toda\", \"tambem\", \"mais\", \"sem\", \"seja\", \"era\", \"São\", \"Paulo\", \"tá\", \"pelo\", \"só\", \"faz\", \"pode\", \"hoje\", \"nem\", \"para\",\"depende\", \"vc\", \"ele\", \"ante\", \"ainda\", \"assim\", \"meio\", \"mesmo\", \"essa\", \"bem\", \"todo\", \"às\", \"dos\", \"veja\", \"estão\",\"pra\", \"como\", \"Cha\", \"ou\", \"vcs\", \"sera\", \"nas\", \"das\", \"porque\", \"desde\", \"esse\", \"né\", \"todos\", \"tenho\", \"ficar\", \"pela\", \"Chap\"])\n",
    "\n",
    "fura_color = np.array(Image.open(os.path.join(\"C:/Users/Thunder/Downloads/Nova pasta/nuvem.jpg\")))\n"
   ]
  },
  {
   "cell_type": "code",
   "execution_count": null,
   "metadata": {},
   "outputs": [],
   "source": [
    "# Word Cloud com os textos dos tweets\n",
    "wordcloud = WordCloud(width=750 ,stopwords=stopwords,height=500,max_font_size=150,min_font_size=10,collocations=False, background_color='white').generate(string)\n",
    "#mask=fura_color - se quiser uma imagem recortada certinha\n",
    "image_colors = ImageColorGenerator(fura_color)\n",
    "\n",
    "fig, ax = plt.subplots(figsize=(50,50), dpi=20)\n",
    "ax.imshow(wordcloud.recolor(color_func=None), interpolation=\"bilinear\")\n",
    "ax.set_axis_off()\n",
    "plt.show()\n",
    "wordcloud.to_file(\"wordcloud.png\")\n",
    "\n",
    "\n",
    "#plt.figure(figsize=(40,30))\n",
    "#plt.imshow(wordcloud, interpolation=\"bilinear\")\n",
    "#plt.axis(\"off\")\n",
    "#plt.show()\n"
   ]
  },
  {
   "cell_type": "markdown",
   "metadata": {
    "tags": []
   },
   "source": [
    "# Autor\n",
    "\n",
    "<a href=\"https://www.youtube.com/channel/UCa-d0hwYHOu6ehwc_oMjOoA\" target=\"_blank\">Alcides Lino (canal Programação e Liberdade)</a>"
   ]
  },
  {
   "cell_type": "markdown",
   "metadata": {},
   "source": [
    "---"
   ]
  },
  {
   "cell_type": "markdown",
   "metadata": {
    "tags": []
   },
   "source": [
    "# Registro de Alterações (*Change Log*)"
   ]
  },
  {
   "cell_type": "markdown",
   "metadata": {
    "tags": []
   },
   "source": [
    "| Data (DD/MM/YYYY) | Versão  | Alterado Por | Descrição da Mudança                |\n",
    "| ----------------- | ------- | ------------ | ----------------------------------- |\n",
    "| 27/03/2022        | 1.0     | Alcides      | Versão inicial                      |"
   ]
  }
 ],
 "metadata": {
  "kernelspec": {
   "display_name": "Python 3.10.8 64-bit (microsoft store)",
   "language": "python",
   "name": "python3"
  },
  "language_info": {
   "codemirror_mode": {
    "name": "ipython",
    "version": 3
   },
   "file_extension": ".py",
   "mimetype": "text/x-python",
   "name": "python",
   "nbconvert_exporter": "python",
   "pygments_lexer": "ipython3",
   "version": "3.10.8"
  },
  "vscode": {
   "interpreter": {
    "hash": "4faa73da3a11b104abfbd87ef8686bc2e65247b85a4ec0b41adb96dbb270a183"
   }
  }
 },
 "nbformat": 4,
 "nbformat_minor": 4
}
