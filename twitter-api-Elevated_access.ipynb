{
 "cells": [
  {
   "cell_type": "markdown",
   "metadata": {},
   "source": [
    "# Twitter API"
   ]
  },
  {
   "cell_type": "markdown",
   "metadata": {},
   "source": [
    "Twitter API v2"
   ]
  },
  {
   "cell_type": "code",
   "execution_count": null,
   "metadata": {
    "tags": []
   },
   "outputs": [],
   "source": [
    "# Instalação das bibliotecas\n",
    "%pip install pandas --quiet\n",
    "%pip install tweepy --quiet\n",
    "%pip install wordcloud --quiet"
   ]
  },
  {
   "cell_type": "code",
   "execution_count": null,
   "metadata": {},
   "outputs": [],
   "source": [
    "# Importando as bibliotecas\n",
    "import tweepy                 as tw\n",
    "import numpy                  as np\n",
    "import pandas                 as pd\n",
    "import matplotlib.pyplot      as plt\n",
    "from PIL import Image\n",
    "from wordcloud import WordCloud, STOPWORDS, ImageColorGenerator\n",
    "import os\n",
    "from os import path\n",
    "import random\n",
    "from scipy.ndimage import gaussian_gradient_magnitude"
   ]
  },
  {
   "cell_type": "code",
   "execution_count": null,
   "metadata": {},
   "outputs": [],
   "source": [
    "# Autenticação\n",
    "consumer_key = 'Suas chaves'\n",
    "consumer_secret = 'Suas chaves'\n",
    "access_token = 'Suas chaves'\n",
    "access_token_secret = 'Suas chaves'"
   ]
  },
  {
   "cell_type": "code",
   "execution_count": null,
   "metadata": {},
   "outputs": [],
   "source": [
    "auth = tw.OAuthHandler(consumer_key, consumer_secret)\n",
    "auth.set_access_token(access_token, access_token_secret)\n",
    "api = tw.API(auth, wait_on_rate_limit=True)"
   ]
  },
  {
   "cell_type": "code",
   "execution_count": null,
   "metadata": {},
   "outputs": [],
   "source": [
    "# Testing with a small set of data\n",
    "query = \"Python\" + \" -filter:retweets\"\n",
    "tweets = tw.Cursor(api.search_tweets,\n",
    "                       q=query).items(10)\n",
    "for tweet in tweets:\n",
    "  print(tweet.text)"
   ]
  },
  {
   "cell_type": "code",
   "execution_count": null,
   "metadata": {},
   "outputs": [],
   "source": [
    "# Criando um dicionario vazio para guardar os dados\n",
    "twkeys = tweet._json.keys()\n",
    "tweets_dict = {}\n",
    "tweets_dict = tweets_dict.fromkeys(twkeys)"
   ]
  },
  {
   "cell_type": "code",
   "execution_count": null,
   "metadata": {},
   "outputs": [],
   "source": [
    "# Procurando x mil tweets e guardando no banco de dados\n",
    "query = \"Python\" + \" -filter:retweets\"\n",
    "tweets = tw.Cursor(api.search_tweets,\n",
    "                       q=query).items(450)\n",
    "for tweet in tweets:\n",
    "  for key in tweets_dict.keys():\n",
    "    try:\n",
    "      twkey = tweet._json[key]\n",
    "      tweets_dict[key].append(twkey)\n",
    "    except KeyError:\n",
    "      twkey = \"\"\n",
    "      tweets_dict[key].append(\"\")\n",
    "    except:\n",
    "      tweets_dict[key] = [twkey]"
   ]
  },
  {
   "cell_type": "code",
   "execution_count": null,
   "metadata": {},
   "outputs": [],
   "source": [
    "# Criando um dat-frame de um dicionario\n",
    "df0 = pd.DataFrame.from_dict(tweets_dict)\n",
    "df0.head(5)"
   ]
  },
  {
   "cell_type": "code",
   "execution_count": null,
   "metadata": {},
   "outputs": [],
   "source": [
    "# Criando um loop de string com todos os  tweets pegos\n",
    "df2 = df0.dropna(subset=['text'], axis = 0)['text'].copy()\n",
    "text = \" \".join(s for s in df2)\n",
    "# Checando para ver quantas palavras tem\n",
    "print(\"Words: {}\".format(len(text)))\n"
   ]
  },
  {
   "cell_type": "code",
   "execution_count": null,
   "metadata": {},
   "outputs": [],
   "source": [
    "# colocando as stopwords stopwords\n",
    "stopwords = set(STOPWORDS)\n",
    "stopwords.update([\"é\",\"e\", \"RT\", \"da\", \"fez\", \"deu\", \"mai\", \"ser\", \"tanto\", \"Deu\", \"até\", \"aos\", \"fazer\", \"isso\", \"muito\", \"tinha\", \"usaria\", \"contra\", \"pera\", \"meu\", \"em\", \"você\", \"de\", \"ao\", \"os\", \"não\", \"feira\", \"na\", \"que\", \"eu\", \"https\", \"co\", \"camisa\", \"pro\", \"hora\",\"sport\", \"ceara\", \"ceará\", \"tem\", \"se\", \"um\", \"uma\", \"que\", \"foi\", \"está\", \"aqui,\", \"para\", \"vai\", \"ter\", \"mas\", \"já\", \"nos\", \"vem\", \"sobre\", \"sendo\", \"dia\", \"ver\",\"por\", \"nossa\", \"quem\", \"toda\", \"tambem\", \"mais\", \"sem\", \"seja\", \"era\", \"São\", \"Paulo\", \"tá\", \"pelo\", \"só\", \"faz\", \"pode\", \"hoje\", \"nem\", \"para\",\"depende\", \"vc\", \"ele\", \"ante\", \"ainda\", \"assim\", \"meio\", \"mesmo\", \"essa\", \"bem\", \"todo\", \"às\", \"dos\", \"veja\", \"estão\",\"pra\", \"como\", \"Cha\", \"ou\", \"vcs\", \"sera\", \"nas\", \"das\", \"porque\", \"desde\", \"esse\", \"né\", \"todos\", \"tenho\", \"ficar\", \"pela\", \"Chap\"])\n",
    "\n",
    "#fura_color = np.array(Image.open(os.path.join(\"Caminho da imagem desejada\")))\n",
    "\n",
    "# generating a wordcloud\n",
    "wordcloud = WordCloud(stopwords=stopwords,\n",
    "                        background_color=\"white\",\n",
    "                        width=750, height=500, max_words=800,\n",
    "                        max_font_size=150,\n",
    "                         min_font_size=10).generate(text)\n",
    "\n",
    "#mask=fura_color - se quiser uma imagem especifica\n",
    "\n",
    "# ploting it in a specific image\n",
    "#image_colors = ImageColorGenerator(fura_color)\n",
    "\n",
    "# show\n",
    "#color_func=lambda *args, **kwargs: \"white\" - Cor especifica\n",
    "fig, ax = plt.subplots(figsize=(50,50), dpi=20)\n",
    "ax.imshow(wordcloud.recolor(color_func=None), interpolation=\"bilinear\")\n",
    "ax.set_axis_off()\n",
    "plt.show()\n",
    "wordcloud.to_file(\"wordcloud.png\")"
   ]
  },
  {
   "cell_type": "markdown",
   "metadata": {
    "tags": []
   },
  {
   "cell_type": "markdown",
   "metadata": {},
   "source": [
    "---"
   ]
  },
  {
   "cell_type": "markdown",
   "metadata": {
    "tags": []
   },
   "source": [
    "# Registro de Alterações (*Change Log*)"
   ]
  },
  {
   "cell_type": "markdown",
   "metadata": {
    "tags": []
   },
   "source": [
    "| Data (DD/MM/YYYY) | Versão  | Alterado Por | Descrição da Mudança                |\n",
    "| ----------------- | ------- | ------------ | ----------------------------------- |\n",
    "| 23/11/2022        | 1.2     | Thiago       | Versão Alterada                     |"
   ]
  }
 ],
 "metadata": {
  "kernelspec": {
   "display_name": "Python 3.10.8 64-bit (microsoft store)",
   "language": "python",
   "name": "python3"
  },
  "language_info": {
   "codemirror_mode": {
    "name": "ipython",
    "version": 3
   },
   "file_extension": ".py",
   "mimetype": "text/x-python",
   "name": "python",
   "nbconvert_exporter": "python",
   "pygments_lexer": "ipython3",
   "version": "3.10.8"
  },
  "vscode": {
   "interpreter": {
    "hash": "4faa73da3a11b104abfbd87ef8686bc2e65247b85a4ec0b41adb96dbb270a183"
   }
  }
 },
 "nbformat": 4,
 "nbformat_minor": 4
}
